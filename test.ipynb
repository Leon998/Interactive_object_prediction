{
 "cells": [
  {
   "cell_type": "code",
   "execution_count": 10,
   "outputs": [
    {
     "name": "stdout",
     "output_type": "stream",
     "text": [
      "{'cls': 'cup', 'coffset': 0.6, 'box_size': 0.2, 'score': -0.39999999999999997}\n",
      "{'cls': 'bottle', 'coffset': 0.4, 'box_size': 0.7, 'score': 0.29999999999999993}\n",
      "{'cls': 'spoon', 'coffset': 0.8, 'box_size': 0.7, 'score': -0.10000000000000009}\n",
      "[-0.39999999999999997, 0.29999999999999993, -0.10000000000000009]\n",
      "bottle\n"
     ]
    }
   ],
   "source": [
    "frame_log = []\n",
    "cup_score = []\n",
    "bottle_score = []\n",
    "spoon_score = []\n",
    "frame_log.append({\"cls\":\"cup\", \"coffset\":0.6, \"box_size\": 0.2})\n",
    "frame_log.append({\"cls\":\"bottle\", \"coffset\":0.4, \"box_size\": 0.7})\n",
    "frame_log.append({\"cls\":\"spoon\", \"coffset\":0.8, \"box_size\": 0.7})\n",
    "score_list = []\n",
    "for obj in frame_log:\n",
    "    score = - obj[\"coffset\"] + obj[\"box_size\"]\n",
    "    obj[\"score\"] = score\n",
    "    print(obj)\n",
    "    score_list.append(score)\n",
    "    if obj[\"cls\"] == \"cup\":\n",
    "        cup_score.append(obj[\"score\"])\n",
    "    elif obj[\"cls\"] == \"bottle\":\n",
    "        bottle_score.append(obj[\"score\"])\n",
    "    else:\n",
    "        spoon_score.append(obj[\"score\"])\n",
    "\n",
    "\n",
    "print(score_list)\n",
    "target_idx = score_list.index(max(score_list))\n",
    "print(frame_log[target_idx][\"cls\"])\n"
   ],
   "metadata": {
    "collapsed": false,
    "pycharm": {
     "name": "#%%\n"
    }
   }
  },
  {
   "cell_type": "code",
   "execution_count": 11,
   "outputs": [
    {
     "data": {
      "text/plain": "([-0.39999999999999997], [0.29999999999999993], [-0.10000000000000009])"
     },
     "execution_count": 11,
     "metadata": {},
     "output_type": "execute_result"
    }
   ],
   "source": [
    "cup_score, bottle_score, spoon_score"
   ],
   "metadata": {
    "collapsed": false,
    "pycharm": {
     "name": "#%%\n"
    }
   }
  },
  {
   "cell_type": "code",
   "execution_count": 5,
   "outputs": [
    {
     "data": {
      "text/plain": "[[{'cls': 'cup',\n   'coffset': 0.6,\n   'box_size': 0.2,\n   'score': -0.39999999999999997},\n  {'cls': 'bottle',\n   'coffset': 0.4,\n   'box_size': 0.7,\n   'score': 0.29999999999999993},\n  {'cls': 'spoon',\n   'coffset': 0.8,\n   'box_size': 0.7,\n   'score': -0.10000000000000009}],\n [{'cls': 'cup',\n   'coffset': 0.6,\n   'box_size': 0.2,\n   'score': -0.39999999999999997},\n  {'cls': 'bottle',\n   'coffset': 0.4,\n   'box_size': 0.7,\n   'score': 0.29999999999999993},\n  {'cls': 'spoon',\n   'coffset': 0.8,\n   'box_size': 0.7,\n   'score': -0.10000000000000009}]]"
     },
     "execution_count": 5,
     "metadata": {},
     "output_type": "execute_result"
    }
   ],
   "source": [
    "stream_log = []\n",
    "stream_log.append(frame_log)\n",
    "stream_log.append(frame_log)\n",
    "stream_log"
   ],
   "metadata": {
    "collapsed": false,
    "pycharm": {
     "name": "#%%\n"
    }
   }
  },
  {
   "cell_type": "code",
   "execution_count": 11,
   "outputs": [
    {
     "data": {
      "text/plain": "2"
     },
     "execution_count": 11,
     "metadata": {},
     "output_type": "execute_result"
    }
   ],
   "source": [
    "len(stream_log)"
   ],
   "metadata": {
    "collapsed": false,
    "pycharm": {
     "name": "#%%\n"
    }
   }
  },
  {
   "cell_type": "code",
   "execution_count": 17,
   "outputs": [
    {
     "data": {
      "text/plain": "[[], [], [], [], []]"
     },
     "execution_count": 17,
     "metadata": {},
     "output_type": "execute_result"
    }
   ],
   "source": [
    "list = []\n",
    "for i in range(5):\n",
    "    list.append([])\n",
    "list"
   ],
   "metadata": {
    "collapsed": false,
    "pycharm": {
     "name": "#%%\n"
    }
   }
  },
  {
   "cell_type": "code",
   "execution_count": 69,
   "outputs": [],
   "source": [
    "cup_score = []\n",
    "bottle_score = []\n",
    "spoon_score = []\n",
    "for line in open(\"runs/cup_score.txt\"):\n",
    "    line=line.strip('\\n')\n",
    "    cup_score.append(float(line))\n",
    "for line in open(\"runs/bottle_score.txt\"):\n",
    "    line=line.strip('\\n')\n",
    "    bottle_score.append(float(line))\n",
    "for line in open(\"runs/spoon_score.txt\"):\n",
    "    line=line.strip('\\n')\n",
    "    spoon_score.append(float(line))"
   ],
   "metadata": {
    "collapsed": false,
    "pycharm": {
     "name": "#%%\n"
    }
   }
  },
  {
   "cell_type": "code",
   "execution_count": 70,
   "outputs": [
    {
     "data": {
      "text/plain": "(412, 412, 412)"
     },
     "execution_count": 70,
     "metadata": {},
     "output_type": "execute_result"
    }
   ],
   "source": [
    "len(cup_score), len(bottle_score), len(spoon_score)"
   ],
   "metadata": {
    "collapsed": false,
    "pycharm": {
     "name": "#%%\n"
    }
   }
  },
  {
   "cell_type": "code",
   "execution_count": 71,
   "outputs": [
    {
     "data": {
      "text/plain": "<Figure size 432x288 with 1 Axes>",
      "image/png": "[encoded data removed]"
     },
     "metadata": {
      "needs_background": "light"
     },
     "output_type": "display_data"
    }
   ],
   "source": [
    "import matplotlib.pyplot as plt\n",
    "import numpy as np\n",
    "\n",
    "\n",
    "x = np.arange(0, len(cup_score))\n",
    "y = np.array(cup_score)\n",
    "\n",
    "plt.plot(x, y)\n",
    "plt.show()"
   ],
   "metadata": {
    "collapsed": false,
    "pycharm": {
     "name": "#%%\n"
    }
   }
  },
  {
   "cell_type": "code",
   "execution_count": 72,
   "outputs": [
    {
     "data": {
      "text/plain": "<Figure size 432x288 with 1 Axes>",
      "image/png": "[encoded data removed]"
     },
     "metadata": {
      "needs_background": "light"
     },
     "output_type": "display_data"
    }
   ],
   "source": [
    "x = np.arange(0, len(bottle_score))\n",
    "y = np.array(bottle_score)\n",
    "\n",
    "plt.plot(x, y)\n",
    "plt.show()"
   ],
   "metadata": {
    "collapsed": false,
    "pycharm": {
     "name": "#%%\n"
    }
   }
  },
  {
   "cell_type": "code",
   "execution_count": 73,
   "outputs": [
    {
     "data": {
      "text/plain": "<Figure size 432x288 with 1 Axes>",
      "image/png": "[encoded data removed]"
     },
     "metadata": {
      "needs_background": "light"
     },
     "output_type": "display_data"
    }
   ],
   "source": [
    "x = np.arange(0, len(spoon_score))\n",
    "y = np.array(spoon_score)\n",
    "\n",
    "plt.plot(x, y)\n",
    "plt.show()"
   ],
   "metadata": {
    "collapsed": false,
    "pycharm": {
     "name": "#%%\n"
    }
   }
  },
  {
   "cell_type": "code",
   "execution_count": 64,
   "outputs": [
    {
     "data": {
      "text/plain": "array([[0., 1.],\n       [0., 1.],\n       [0., 1.],\n       [0., 1.],\n       [0., 1.],\n       [0., 1.],\n       [0., 1.],\n       [0., 1.]])"
     },
     "execution_count": 64,
     "metadata": {},
     "output_type": "execute_result"
    }
   ],
   "source": [
    "import numpy as np\n",
    "class_score_log = np.zeros((8, 1))\n",
    "new_frame = np.ones(8)\n",
    "class_score_log = np.column_stack((class_score_log,new_frame))\n",
    "class_score_log"
   ],
   "metadata": {
    "collapsed": false,
    "pycharm": {
     "name": "#%%\n"
    }
   }
  },
  {
   "cell_type": "code",
   "execution_count": 66,
   "outputs": [
    {
     "data": {
      "text/plain": "array([[ 0.,  0.,  0.,  0.,  0.],\n       [ 0.,  0.,  0.,  0.,  0.],\n       [99., 99., 99., 99., 99.],\n       [ 0.,  0.,  0.,  0.,  0.],\n       [ 0.,  0.,  0.,  0.,  0.],\n       [ 0.,  0.,  0.,  0.,  0.],\n       [ 0.,  0.,  0.,  0.,  0.],\n       [ 0.,  0.,  0.,  0.,  0.]])"
     },
     "execution_count": 66,
     "metadata": {},
     "output_type": "execute_result"
    }
   ],
   "source": [
    "import numpy as np\n",
    "class_score_log = np.zeros((8, 1))\n",
    "new_frame = np.zeros(8)\n",
    "frame_idx = 0\n",
    "for i in range(5):\n",
    "    if frame_idx >= 1:\n",
    "        class_score_log = np.column_stack((class_score_log,new_frame))\n",
    "    class_score_log[2,:][frame_idx] = 99\n",
    "    frame_idx += 1\n",
    "class_score_log"
   ],
   "metadata": {
    "collapsed": false,
    "pycharm": {
     "name": "#%%\n"
    }
   }
  },
  {
   "cell_type": "code",
   "execution_count": null,
   "outputs": [],
   "source": [],
   "metadata": {
    "collapsed": false,
    "pycharm": {
     "name": "#%%\n"
    }
   }
  }
 ],
 "metadata": {
  "kernelspec": {
   "display_name": "Python 3",
   "language": "python",
   "name": "python3"
  },
  "language_info": {
   "codemirror_mode": {
    "name": "ipython",
    "version": 2
   },
   "file_extension": ".py",
   "mimetype": "text/x-python",
   "name": "python",
   "nbconvert_exporter": "python",
   "pygments_lexer": "ipython2",
   "version": "2.7.6"
  }
 },
 "nbformat": 4,
 "nbformat_minor": 0
}